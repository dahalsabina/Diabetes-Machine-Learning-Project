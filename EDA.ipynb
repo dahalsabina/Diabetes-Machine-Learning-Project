{
 "cells": [
  {
   "cell_type": "code",
   "execution_count": 19,
   "id": "9edb590c-8d64-4af1-b6fc-9b677240bb35",
   "metadata": {},
   "outputs": [
    {
     "name": "stdout",
     "output_type": "stream",
     "text": [
      "Defaulting to user installation because normal site-packages is not writeable\n",
      "Collecting seaborn\n",
      "  Downloading seaborn-0.13.2-py3-none-any.whl (294 kB)\n",
      "\u001b[2K     \u001b[90m━━━━━━━━━━━━━━━━━━━━━━━━━━━━━━━━━━━━━━━\u001b[0m \u001b[32m294.9/294.9 kB\u001b[0m \u001b[31m3.2 MB/s\u001b[0m eta \u001b[36m0:00:00\u001b[0ma \u001b[36m0:00:01\u001b[0m\n",
      "\u001b[?25hRequirement already satisfied: matplotlib!=3.6.1,>=3.4 in /opt/anaconda3/envs/ds420/lib/python3.8/site-packages (from seaborn) (3.4.3)\n",
      "Requirement already satisfied: pandas>=1.2 in /opt/anaconda3/envs/ds420/lib/python3.8/site-packages (from seaborn) (1.3.5)\n",
      "Collecting numpy!=1.24.0,>=1.20\n",
      "  Downloading numpy-1.24.4-cp38-cp38-manylinux_2_17_x86_64.manylinux2014_x86_64.whl (17.3 MB)\n",
      "\u001b[2K     \u001b[90m━━━━━━━━━━━━━━━━━━━━━━━━━━━━━━━━━━━━━━━━\u001b[0m \u001b[32m17.3/17.3 MB\u001b[0m \u001b[31m58.5 MB/s\u001b[0m eta \u001b[36m0:00:00\u001b[0m00:01\u001b[0m00:01\u001b[0m\n",
      "\u001b[?25hRequirement already satisfied: pillow>=6.2.0 in /opt/anaconda3/envs/ds420/lib/python3.8/site-packages (from matplotlib!=3.6.1,>=3.4->seaborn) (8.3.2)\n",
      "Requirement already satisfied: kiwisolver>=1.0.1 in /opt/anaconda3/envs/ds420/lib/python3.8/site-packages (from matplotlib!=3.6.1,>=3.4->seaborn) (1.4.4)\n",
      "Requirement already satisfied: cycler>=0.10 in /opt/anaconda3/envs/ds420/lib/python3.8/site-packages (from matplotlib!=3.6.1,>=3.4->seaborn) (0.11.0)\n",
      "Requirement already satisfied: pyparsing>=2.2.1 in /opt/anaconda3/envs/ds420/lib/python3.8/site-packages (from matplotlib!=3.6.1,>=3.4->seaborn) (3.0.9)\n",
      "Requirement already satisfied: python-dateutil>=2.7 in /opt/anaconda3/envs/ds420/lib/python3.8/site-packages (from matplotlib!=3.6.1,>=3.4->seaborn) (2.8.2)\n",
      "Requirement already satisfied: pytz>=2017.3 in /opt/anaconda3/envs/ds420/lib/python3.8/site-packages (from pandas>=1.2->seaborn) (2022.2.1)\n",
      "Requirement already satisfied: six>=1.5 in /opt/anaconda3/envs/ds420/lib/python3.8/site-packages (from python-dateutil>=2.7->matplotlib!=3.6.1,>=3.4->seaborn) (1.15.0)\n",
      "Installing collected packages: numpy, seaborn\n",
      "\u001b[33m  WARNING: The scripts f2py, f2py3 and f2py3.8 are installed in '/home/LC/dahasa01/.local/bin' which is not on PATH.\n",
      "  Consider adding this directory to PATH or, if you prefer to suppress this warning, use --no-warn-script-location.\u001b[0m\u001b[33m\n",
      "\u001b[0m\u001b[31mERROR: pip's dependency resolver does not currently take into account all the packages that are installed. This behaviour is the source of the following dependency conflicts.\n",
      "tfx 1.3.4 requires numpy<1.20,>=1.16, but you have numpy 1.24.4 which is incompatible.\n",
      "tfx-bsl 1.3.0 requires numpy<1.20,>=1.16, but you have numpy 1.24.4 which is incompatible.\n",
      "tensorflow 2.6.1 requires numpy~=1.19.2, but you have numpy 1.24.4 which is incompatible.\n",
      "tensorflow-transform 1.3.0 requires numpy<1.20,>=1.16, but you have numpy 1.24.4 which is incompatible.\n",
      "tensorflow-model-analysis 0.34.1 requires numpy<1.20,>=1.16, but you have numpy 1.24.4 which is incompatible.\n",
      "tensorflow-data-validation 1.3.0 requires joblib<0.15,>=0.12, but you have joblib 1.3.2 which is incompatible.\n",
      "tensorflow-data-validation 1.3.0 requires numpy<1.20,>=1.16, but you have numpy 1.24.4 which is incompatible.\n",
      "scipy 1.7.3 requires numpy<1.23.0,>=1.16.5, but you have numpy 1.24.4 which is incompatible.\n",
      "apache-beam 2.41.0 requires numpy<1.23.0,>=1.14.3, but you have numpy 1.24.4 which is incompatible.\u001b[0m\u001b[31m\n",
      "\u001b[0mSuccessfully installed numpy-1.24.4 seaborn-0.13.2\n",
      "Note: you may need to restart the kernel to use updated packages.\n"
     ]
    }
   ],
   "source": [
    "%pip install seaborn"
   ]
  },
  {
   "cell_type": "code",
   "execution_count": 1,
   "id": "069fecd8-3612-4179-8803-a2b921f0bbea",
   "metadata": {
    "tags": []
   },
   "outputs": [
    {
     "name": "stderr",
     "output_type": "stream",
     "text": [
      "/opt/anaconda3/envs/ds420/lib/python3.8/site-packages/scipy/__init__.py:146: UserWarning: A NumPy version >=1.16.5 and <1.23.0 is required for this version of SciPy (detected version 1.24.4\n",
      "  warnings.warn(f\"A NumPy version >={np_minversion} and <{np_maxversion}\"\n"
     ]
    }
   ],
   "source": [
    "import numpy as np\n",
    "import pandas as pd\n",
    "import matplotlib.pyplot as plt\n",
    "import seaborn as sns\n"
   ]
  },
  {
   "cell_type": "code",
   "execution_count": 2,
   "id": "892585a9-6637-4d28-bf6a-70f77bf790d7",
   "metadata": {},
   "outputs": [],
   "source": [
    "diabetes = pd.read_csv('dataset/diabetes_prediction_dataset.csv')"
   ]
  },
  {
   "cell_type": "code",
   "execution_count": 3,
   "id": "bd0e59d9-4878-4d56-bb04-e615d3f18172",
   "metadata": {},
   "outputs": [
    {
     "data": {
      "text/html": [
       "<div>\n",
       "<style scoped>\n",
       "    .dataframe tbody tr th:only-of-type {\n",
       "        vertical-align: middle;\n",
       "    }\n",
       "\n",
       "    .dataframe tbody tr th {\n",
       "        vertical-align: top;\n",
       "    }\n",
       "\n",
       "    .dataframe thead th {\n",
       "        text-align: right;\n",
       "    }\n",
       "</style>\n",
       "<table border=\"1\" class=\"dataframe\">\n",
       "  <thead>\n",
       "    <tr style=\"text-align: right;\">\n",
       "      <th></th>\n",
       "      <th>gender</th>\n",
       "      <th>age</th>\n",
       "      <th>hypertension</th>\n",
       "      <th>heart_disease</th>\n",
       "      <th>smoking_history</th>\n",
       "      <th>bmi</th>\n",
       "      <th>HbA1c_level</th>\n",
       "      <th>blood_glucose_level</th>\n",
       "      <th>diabetes</th>\n",
       "    </tr>\n",
       "  </thead>\n",
       "  <tbody>\n",
       "    <tr>\n",
       "      <th>0</th>\n",
       "      <td>Female</td>\n",
       "      <td>80.0</td>\n",
       "      <td>0</td>\n",
       "      <td>1</td>\n",
       "      <td>never</td>\n",
       "      <td>25.19</td>\n",
       "      <td>6.6</td>\n",
       "      <td>140</td>\n",
       "      <td>0</td>\n",
       "    </tr>\n",
       "    <tr>\n",
       "      <th>1</th>\n",
       "      <td>Female</td>\n",
       "      <td>54.0</td>\n",
       "      <td>0</td>\n",
       "      <td>0</td>\n",
       "      <td>No Info</td>\n",
       "      <td>27.32</td>\n",
       "      <td>6.6</td>\n",
       "      <td>80</td>\n",
       "      <td>0</td>\n",
       "    </tr>\n",
       "    <tr>\n",
       "      <th>2</th>\n",
       "      <td>Male</td>\n",
       "      <td>28.0</td>\n",
       "      <td>0</td>\n",
       "      <td>0</td>\n",
       "      <td>never</td>\n",
       "      <td>27.32</td>\n",
       "      <td>5.7</td>\n",
       "      <td>158</td>\n",
       "      <td>0</td>\n",
       "    </tr>\n",
       "    <tr>\n",
       "      <th>3</th>\n",
       "      <td>Female</td>\n",
       "      <td>36.0</td>\n",
       "      <td>0</td>\n",
       "      <td>0</td>\n",
       "      <td>current</td>\n",
       "      <td>23.45</td>\n",
       "      <td>5.0</td>\n",
       "      <td>155</td>\n",
       "      <td>0</td>\n",
       "    </tr>\n",
       "    <tr>\n",
       "      <th>4</th>\n",
       "      <td>Male</td>\n",
       "      <td>76.0</td>\n",
       "      <td>1</td>\n",
       "      <td>1</td>\n",
       "      <td>current</td>\n",
       "      <td>20.14</td>\n",
       "      <td>4.8</td>\n",
       "      <td>155</td>\n",
       "      <td>0</td>\n",
       "    </tr>\n",
       "  </tbody>\n",
       "</table>\n",
       "</div>"
      ],
      "text/plain": [
       "   gender   age  hypertension  heart_disease smoking_history    bmi  \\\n",
       "0  Female  80.0             0              1           never  25.19   \n",
       "1  Female  54.0             0              0         No Info  27.32   \n",
       "2    Male  28.0             0              0           never  27.32   \n",
       "3  Female  36.0             0              0         current  23.45   \n",
       "4    Male  76.0             1              1         current  20.14   \n",
       "\n",
       "   HbA1c_level  blood_glucose_level  diabetes  \n",
       "0          6.6                  140         0  \n",
       "1          6.6                   80         0  \n",
       "2          5.7                  158         0  \n",
       "3          5.0                  155         0  \n",
       "4          4.8                  155         0  "
      ]
     },
     "execution_count": 3,
     "metadata": {},
     "output_type": "execute_result"
    }
   ],
   "source": [
    "diabetes.head(5)"
   ]
  },
  {
   "cell_type": "markdown",
   "id": "9403349f-4971-4856-9072-8b180c4e3dc5",
   "metadata": {},
   "source": [
    "Above we have the first five entries in this data frame. It is evident that two columns have values that are 'objects' meaning there are at least two categorical variables. The values of age, bmi, HbA1c_level, and blood_glucose_level are all numeric and quantitative variables. It seems as though there are  hot coded 0 and 1 for variables hypertension, heart_disease, and diabetes. We can do value_count on these variables to make sure there are no other values in these series. "
   ]
  },
  {
   "cell_type": "code",
   "execution_count": 4,
   "id": "484a5d95-b2b8-49e0-b14a-9077af5d90f0",
   "metadata": {},
   "outputs": [
    {
     "name": "stdout",
     "output_type": "stream",
     "text": [
      "0    92515\n",
      "1     7485\n",
      "Name: hypertension, dtype: int64\n",
      "0    96058\n",
      "1     3942\n",
      "Name: heart_disease, dtype: int64\n",
      "0    91500\n",
      "1     8500\n",
      "Name: diabetes, dtype: int64\n"
     ]
    }
   ],
   "source": [
    "print(diabetes['hypertension'].value_counts())\n",
    "print(diabetes['heart_disease'].value_counts())\n",
    "print(diabetes['diabetes'].value_counts())"
   ]
  },
  {
   "cell_type": "markdown",
   "id": "427b5181-b810-4cbf-8f5f-0fa26af317b8",
   "metadata": {},
   "source": [
    "The three variables, hypertension, heart_disease, and diabetes are all binary yes/no responses"
   ]
  },
  {
   "cell_type": "code",
   "execution_count": 5,
   "id": "a993afb0-0979-4f14-ad3f-a8be8780f838",
   "metadata": {},
   "outputs": [
    {
     "name": "stdout",
     "output_type": "stream",
     "text": [
      "<class 'pandas.core.frame.DataFrame'>\n",
      "RangeIndex: 100000 entries, 0 to 99999\n",
      "Data columns (total 9 columns):\n",
      " #   Column               Non-Null Count   Dtype  \n",
      "---  ------               --------------   -----  \n",
      " 0   gender               100000 non-null  object \n",
      " 1   age                  100000 non-null  float64\n",
      " 2   hypertension         100000 non-null  int64  \n",
      " 3   heart_disease        100000 non-null  int64  \n",
      " 4   smoking_history      100000 non-null  object \n",
      " 5   bmi                  100000 non-null  float64\n",
      " 6   HbA1c_level          100000 non-null  float64\n",
      " 7   blood_glucose_level  100000 non-null  int64  \n",
      " 8   diabetes             100000 non-null  int64  \n",
      "dtypes: float64(3), int64(4), object(2)\n",
      "memory usage: 6.9+ MB\n"
     ]
    }
   ],
   "source": [
    "#2.\n",
    "diabetes.info(5)"
   ]
  },
  {
   "cell_type": "markdown",
   "id": "c0583ac3-6a6d-4249-96c8-f8655dfc643f",
   "metadata": {},
   "source": [
    "There are a total of 9 columns in this dataset\n",
    "\n",
    "The label variable is 'diabetes' which is categorical determining if the patient has been diagnosed with diabetes (1) or does not have diabetes (0)\n",
    "\n",
    "The predictor variables are as follows:\n",
    "\n",
    "Gender: categorical: “Female”, “Male”, “Other”   => convert to one-hot vector\n",
    "Age: quantitative- how old the patient is (range 0 to 80)\n",
    "Hypertension: categorical- (0) patient does not have hypertension (1) patient has hypertension\n",
    "Heart_disease: categorical- (0) patient does not have heart disease (1) patient has heart disease\n",
    "Smoking_history: categorical - “no info”, “never”, “other”   => convert to one hot vector\n",
    "Bmi: quantitative- body mass index (measure of body fat based on weight and height\n",
    "HbA1c_level: quantitative- average blood sugar level over the past 2-3 months\n",
    "Blood_glucose_level: quantitative- amount of glucose in the bloodstream at a given time\n"
   ]
  },
  {
   "cell_type": "code",
   "execution_count": 6,
   "id": "cc7de878-3719-4bf2-b0d9-bd2aaef9d6c9",
   "metadata": {},
   "outputs": [
    {
     "data": {
      "text/html": [
       "<div>\n",
       "<style scoped>\n",
       "    .dataframe tbody tr th:only-of-type {\n",
       "        vertical-align: middle;\n",
       "    }\n",
       "\n",
       "    .dataframe tbody tr th {\n",
       "        vertical-align: top;\n",
       "    }\n",
       "\n",
       "    .dataframe thead th {\n",
       "        text-align: right;\n",
       "    }\n",
       "</style>\n",
       "<table border=\"1\" class=\"dataframe\">\n",
       "  <thead>\n",
       "    <tr style=\"text-align: right;\">\n",
       "      <th></th>\n",
       "      <th>age</th>\n",
       "      <th>hypertension</th>\n",
       "      <th>heart_disease</th>\n",
       "      <th>bmi</th>\n",
       "      <th>HbA1c_level</th>\n",
       "      <th>blood_glucose_level</th>\n",
       "      <th>diabetes</th>\n",
       "    </tr>\n",
       "  </thead>\n",
       "  <tbody>\n",
       "    <tr>\n",
       "      <th>count</th>\n",
       "      <td>100000.000000</td>\n",
       "      <td>100000.00000</td>\n",
       "      <td>100000.000000</td>\n",
       "      <td>100000.000000</td>\n",
       "      <td>100000.000000</td>\n",
       "      <td>100000.000000</td>\n",
       "      <td>100000.000000</td>\n",
       "    </tr>\n",
       "    <tr>\n",
       "      <th>mean</th>\n",
       "      <td>41.885856</td>\n",
       "      <td>0.07485</td>\n",
       "      <td>0.039420</td>\n",
       "      <td>27.320767</td>\n",
       "      <td>5.527507</td>\n",
       "      <td>138.058060</td>\n",
       "      <td>0.085000</td>\n",
       "    </tr>\n",
       "    <tr>\n",
       "      <th>std</th>\n",
       "      <td>22.516840</td>\n",
       "      <td>0.26315</td>\n",
       "      <td>0.194593</td>\n",
       "      <td>6.636783</td>\n",
       "      <td>1.070672</td>\n",
       "      <td>40.708136</td>\n",
       "      <td>0.278883</td>\n",
       "    </tr>\n",
       "    <tr>\n",
       "      <th>min</th>\n",
       "      <td>0.080000</td>\n",
       "      <td>0.00000</td>\n",
       "      <td>0.000000</td>\n",
       "      <td>10.010000</td>\n",
       "      <td>3.500000</td>\n",
       "      <td>80.000000</td>\n",
       "      <td>0.000000</td>\n",
       "    </tr>\n",
       "    <tr>\n",
       "      <th>25%</th>\n",
       "      <td>24.000000</td>\n",
       "      <td>0.00000</td>\n",
       "      <td>0.000000</td>\n",
       "      <td>23.630000</td>\n",
       "      <td>4.800000</td>\n",
       "      <td>100.000000</td>\n",
       "      <td>0.000000</td>\n",
       "    </tr>\n",
       "    <tr>\n",
       "      <th>50%</th>\n",
       "      <td>43.000000</td>\n",
       "      <td>0.00000</td>\n",
       "      <td>0.000000</td>\n",
       "      <td>27.320000</td>\n",
       "      <td>5.800000</td>\n",
       "      <td>140.000000</td>\n",
       "      <td>0.000000</td>\n",
       "    </tr>\n",
       "    <tr>\n",
       "      <th>75%</th>\n",
       "      <td>60.000000</td>\n",
       "      <td>0.00000</td>\n",
       "      <td>0.000000</td>\n",
       "      <td>29.580000</td>\n",
       "      <td>6.200000</td>\n",
       "      <td>159.000000</td>\n",
       "      <td>0.000000</td>\n",
       "    </tr>\n",
       "    <tr>\n",
       "      <th>max</th>\n",
       "      <td>80.000000</td>\n",
       "      <td>1.00000</td>\n",
       "      <td>1.000000</td>\n",
       "      <td>95.690000</td>\n",
       "      <td>9.000000</td>\n",
       "      <td>300.000000</td>\n",
       "      <td>1.000000</td>\n",
       "    </tr>\n",
       "  </tbody>\n",
       "</table>\n",
       "</div>"
      ],
      "text/plain": [
       "                 age  hypertension  heart_disease            bmi  \\\n",
       "count  100000.000000  100000.00000  100000.000000  100000.000000   \n",
       "mean       41.885856       0.07485       0.039420      27.320767   \n",
       "std        22.516840       0.26315       0.194593       6.636783   \n",
       "min         0.080000       0.00000       0.000000      10.010000   \n",
       "25%        24.000000       0.00000       0.000000      23.630000   \n",
       "50%        43.000000       0.00000       0.000000      27.320000   \n",
       "75%        60.000000       0.00000       0.000000      29.580000   \n",
       "max        80.000000       1.00000       1.000000      95.690000   \n",
       "\n",
       "         HbA1c_level  blood_glucose_level       diabetes  \n",
       "count  100000.000000        100000.000000  100000.000000  \n",
       "mean        5.527507           138.058060       0.085000  \n",
       "std         1.070672            40.708136       0.278883  \n",
       "min         3.500000            80.000000       0.000000  \n",
       "25%         4.800000           100.000000       0.000000  \n",
       "50%         5.800000           140.000000       0.000000  \n",
       "75%         6.200000           159.000000       0.000000  \n",
       "max         9.000000           300.000000       1.000000  "
      ]
     },
     "execution_count": 6,
     "metadata": {},
     "output_type": "execute_result"
    }
   ],
   "source": [
    "#3 Summary Statistics\n",
    "\n",
    "diabetes.describe()"
   ]
  },
  {
   "cell_type": "code",
   "execution_count": 8,
   "id": "cd0c46f1-7ba7-43c9-b5ca-2b2a47867559",
   "metadata": {},
   "outputs": [
    {
     "data": {
      "text/plain": [
       "diabetes               1.000000\n",
       "blood_glucose_level    0.419558\n",
       "HbA1c_level            0.400660\n",
       "age                    0.258008\n",
       "bmi                    0.214357\n",
       "hypertension           0.197823\n",
       "heart_disease          0.171727\n",
       "Name: diabetes, dtype: float64"
      ]
     },
     "execution_count": 8,
     "metadata": {},
     "output_type": "execute_result"
    }
   ],
   "source": [
    "#5 Correlation Coefficients\n",
    "\n",
    "corr_matrix = diabetes.corr()\n",
    "corr_matrix[\"diabetes\"].sort_values(ascending=False)"
   ]
  },
  {
   "cell_type": "markdown",
   "id": "f12aa291-1778-4e8c-8614-7b84cd0f8826",
   "metadata": {},
   "source": [
    "Above are statistics summarizing the quantitative variables as well as the originally hot-encoded variables. The range of age is from 0.08 80 years with a mean of 41. The range for bmi is from 10.01 to 95.69 with a mean of 27.32. The range for HbA1c_level is from 3.5% to 9% with an average of 5.52%. The range of blood glucose level is from 80 to 300 mg/dL with an average of 138 mg/dL. We can see by the counts of each variable that there are no missing values"
   ]
  },
  {
   "cell_type": "markdown",
   "id": "0beeea8b-8953-4e32-acdd-9e7bc6425c1b",
   "metadata": {},
   "source": [
    "Based on the correlation coefficients, it is evident that blood_glucose_level and HbA1c_level are most associated with the target, diabetes"
   ]
  },
  {
   "cell_type": "code",
   "execution_count": 9,
   "id": "1dd09639-d90e-4a6f-a52f-3980309490a7",
   "metadata": {},
   "outputs": [
    {
     "name": "stdout",
     "output_type": "stream",
     "text": [
      "Female    58552\n",
      "Male      41430\n",
      "Other        18\n",
      "Name: gender, dtype: int64\n",
      "\n",
      "\n",
      "0    92515\n",
      "1     7485\n",
      "Name: hypertension, dtype: int64\n",
      "\n",
      "\n",
      "0    96058\n",
      "1     3942\n",
      "Name: heart_disease, dtype: int64\n",
      "\n",
      "\n",
      "No Info        35816\n",
      "never          35095\n",
      "former          9352\n",
      "current         9286\n",
      "not current     6447\n",
      "ever            4004\n",
      "Name: smoking_history, dtype: int64\n",
      "\n",
      "\n",
      "0    91500\n",
      "1     8500\n",
      "Name: diabetes, dtype: int64\n",
      "\n",
      "\n"
     ]
    }
   ],
   "source": [
    "#6  \n",
    "def get_value_counts(dataframe,col_list):\n",
    "    for col in col_list:\n",
    "        print(dataframe[col].value_counts())\n",
    "        print('\\n')\n",
    "get_value_counts(diabetes,\n",
    "                 ['gender','hypertension','heart_disease','smoking_history','diabetes'])"
   ]
  },
  {
   "cell_type": "code",
   "execution_count": null,
   "id": "1acbee9f-efe3-42fd-8f6a-1aa8a332d028",
   "metadata": {},
   "outputs": [
    {
     "data": {
      "image/png": "[encoded data removed]",
      "text/plain": [
       "<Figure size 640x480 with 1 Axes>"
      ]
     },
     "metadata": {},
     "output_type": "display_data"
    }
   ],
   "source": [
    "#7\n",
    "plt.pie(diabetes['diabetes'].value_counts(), labels = ['non-diabetic', 'diabetic'],\n",
    "       autopct = '%1.1f%%')\n",
    "plt.title(\"Distribution of diabetics in dataset\")\n",
    "plt.show()"
   ]
  },
  {
   "cell_type": "markdown",
   "id": "9870af2e-c1f9-44fb-b192-84a20999cbdc",
   "metadata": {},
   "source": [
    "As we can see in the above piechart diagram, the non-diabetic distribution is high (91.5%) compared to diabetic which is just 8.5%. \n"
   ]
  },
  {
   "cell_type": "code",
   "execution_count": 16,
   "id": "10505c40-d3cd-45af-b2a3-ad46268aba10",
   "metadata": {},
   "outputs": [
    {
     "name": "stderr",
     "output_type": "stream",
     "text": [
      "/tmp/ipykernel_3888810/2618703926.py:2: FutureWarning: \n",
      "\n",
      "Passing `palette` without assigning `hue` is deprecated and will be removed in v0.14.0. Assign the `x` variable to `hue` and set `legend=False` for the same effect.\n",
      "\n",
      "  sns.boxplot(x='diabetes', y='HbA1c_level', data=diabetes,\n"
     ]
    },
    {
     "data": {
      "image/png": "[encoded data removed]",
      "text/plain": [
       "<Figure size 1000x600 with 1 Axes>"
      ]
     },
     "metadata": {},
     "output_type": "display_data"
    }
   ],
   "source": [
    "plt.figure(figsize=(10, 6))\n",
    "sns.boxplot(x='diabetes', y='HbA1c_level', data=diabetes,\n",
    "            palette=['blue', 'green'])\n",
    "plt.title('HbA1c_level by Diabetes Status')\n",
    "plt.xlabel('Diabetes Status')\n",
    "plt.ylabel('HbA1c_level')\n",
    "plt.xticks([0, 1], ['Non-Diabetic', 'Diabetic'])\n",
    "plt.show()"
   ]
  },
  {
   "cell_type": "markdown",
   "id": "21d397d9-b6ef-4038-a27e-4e211261cb33",
   "metadata": {},
   "source": [
    "The image depicts a boxplot that compares HbA1c levels between two groups: Non-Diabetic and Diabetic. In the boxplot, the Non-Diabetic group, colored in blue, appears to have lower HbA1c levels overall compared to the Diabetic group, colored in green. This is expected as higher HbA1c levels are a marker of diabetes. The median of the Non-Diabetic group is within the non-diabetic range, below approx 5.7%. The range of HbA1c levels is also narrower for the Non-Diabetic group, suggesting less variability in blood sugar control among individuals without diabetes.Conversely, the green box representing Diabetics has a higher median HbA1c level, likely above the 6.5% threshold that typically indicates diabetes. This group also shows a wider interquartile range, which reflects greater variability in HbA1c levels among individuals with diabetes. \n"
   ]
  },
  {
   "cell_type": "code",
   "execution_count": 18,
   "id": "968e043c-1a34-453e-adfc-8d33e5b6479c",
   "metadata": {},
   "outputs": [
    {
     "name": "stderr",
     "output_type": "stream",
     "text": [
      "/tmp/ipykernel_3888810/601250620.py:2: FutureWarning: \n",
      "\n",
      "Passing `palette` without assigning `hue` is deprecated and will be removed in v0.14.0. Assign the `x` variable to `hue` and set `legend=False` for the same effect.\n",
      "\n",
      "  sns.boxplot(x='diabetes', y='blood_glucose_level', data=diabetes,palette=['blue', 'pink'])\n"
     ]
    },
    {
     "data": {
      "image/png": "[encoded data removed]",
      "text/plain": [
       "<Figure size 1000x600 with 1 Axes>"
      ]
     },
     "metadata": {},
     "output_type": "display_data"
    }
   ],
   "source": [
    "plt.figure(figsize=(10, 6))\n",
    "sns.boxplot(x='diabetes', y='blood_glucose_level', data=diabetes,palette=['blue', 'pink'])\n",
    "plt.title('Blood Glucose Levels by Diabetes Status')\n",
    "plt.xlabel('Diabetes Status')\n",
    "plt.ylabel('Blood Glucose Level')\n",
    "plt.xticks([0, 1], ['Non-Diabetic', 'Diabetic'])  \n",
    "plt.show()"
   ]
  },
  {
   "cell_type": "markdown",
   "id": "31efd6c3-fd2b-4420-835a-eceae08b1b6e",
   "metadata": {},
   "source": [
    "The boxplot displays blood glucose levels with a clear distinction between Non-Diabetic (blue) and Diabetic (pink) groups. Non-Diabetics have lower, more concentrated glucose levels, while Diabetics show a broader range and higher median levels, indicative of the variation and elevation in blood glucose associated with diabetes. No outliers are present, suggesting a relatively consistent data range within each group."
   ]
  },
  {
   "cell_type": "code",
   "execution_count": null,
   "id": "715c3b1b-65fc-407e-9751-a08855b2786d",
   "metadata": {},
   "outputs": [],
   "source": []
  }
 ],
 "metadata": {
  "kernelspec": {
   "display_name": "DS420 (Python3.8)",
   "language": "python",
   "name": "ds420"
  },
  "language_info": {
   "codemirror_mode": {
    "name": "ipython",
    "version": 3
   },
   "file_extension": ".py",
   "mimetype": "text/x-python",
   "name": "python",
   "nbconvert_exporter": "python",
   "pygments_lexer": "ipython3",
   "version": "3.8.13"
  }
 },
 "nbformat": 4,
 "nbformat_minor": 5
}
